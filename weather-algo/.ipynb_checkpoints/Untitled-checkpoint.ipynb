{
 "cells": [
  {
   "cell_type": "code",
   "execution_count": 1,
   "id": "fc2a5782",
   "metadata": {
    "scrolled": true,
    "tags": []
   },
   "outputs": [
    {
     "name": "stdout",
     "output_type": "stream",
     "text": [
      "Requirement already satisfied: neuralprophet in /Users/catdev/.pyenv/versions/3.8.16/lib/python3.8/site-packages (0.6.0)\n",
      "Requirement already satisfied: prophet==1.0 in /Users/catdev/.pyenv/versions/3.8.16/lib/python3.8/site-packages (1.0)\n",
      "Requirement already satisfied: pystan==2.19.1.1 in /Users/catdev/.pyenv/versions/3.8.16/lib/python3.8/site-packages (2.19.1.1)\n",
      "Requirement already satisfied: Cython>=0.22 in /Users/catdev/.pyenv/versions/3.8.16/lib/python3.8/site-packages (from prophet==1.0) (0.29.34)\n",
      "Requirement already satisfied: cmdstanpy==0.9.68 in /Users/catdev/.pyenv/versions/3.8.16/lib/python3.8/site-packages (from prophet==1.0) (0.9.68)\n",
      "Requirement already satisfied: numpy>=1.15.4 in /Users/catdev/.pyenv/versions/3.8.16/lib/python3.8/site-packages (from prophet==1.0) (1.23.5)\n",
      "Requirement already satisfied: pandas>=1.0.4 in /Users/catdev/.pyenv/versions/3.8.16/lib/python3.8/site-packages (from prophet==1.0) (1.5.3)\n",
      "Requirement already satisfied: matplotlib>=2.0.0 in /Users/catdev/.pyenv/versions/3.8.16/lib/python3.8/site-packages (from prophet==1.0) (3.7.1)\n",
      "Requirement already satisfied: LunarCalendar>=0.0.9 in /Users/catdev/.pyenv/versions/3.8.16/lib/python3.8/site-packages (from prophet==1.0) (0.0.9)\n",
      "Requirement already satisfied: convertdate>=2.1.2 in /Users/catdev/.pyenv/versions/3.8.16/lib/python3.8/site-packages (from prophet==1.0) (2.4.0)\n",
      "Requirement already satisfied: holidays>=0.10.2 in /Users/catdev/.pyenv/versions/3.8.16/lib/python3.8/site-packages (from prophet==1.0) (0.21.13)\n",
      "Requirement already satisfied: setuptools-git>=1.2 in /Users/catdev/.pyenv/versions/3.8.16/lib/python3.8/site-packages (from prophet==1.0) (1.2)\n",
      "Requirement already satisfied: python-dateutil>=2.8.0 in /Users/catdev/.pyenv/versions/3.8.16/lib/python3.8/site-packages (from prophet==1.0) (2.8.2)\n",
      "Requirement already satisfied: tqdm>=4.36.1 in /Users/catdev/.pyenv/versions/3.8.16/lib/python3.8/site-packages (from prophet==1.0) (4.65.0)\n",
      "Requirement already satisfied: ujson in /Users/catdev/.pyenv/versions/3.8.16/lib/python3.8/site-packages (from cmdstanpy==0.9.68->prophet==1.0) (5.7.0)\n",
      "Requirement already satisfied: typing-extensions<5.0.0,>=4.5.0 in /Users/catdev/.pyenv/versions/3.8.16/lib/python3.8/site-packages (from neuralprophet) (4.5.0)\n",
      "Requirement already satisfied: captum<0.7.0,>=0.6.0 in /Users/catdev/.pyenv/versions/3.8.16/lib/python3.8/site-packages (from neuralprophet) (0.6.0)\n",
      "Requirement already satisfied: plotly-resampler<0.9.0.0,>=0.8.3.1 in /Users/catdev/.pyenv/versions/3.8.16/lib/python3.8/site-packages (from neuralprophet) (0.8.3.2)\n",
      "Requirement already satisfied: torchmetrics<0.12.0,>=0.11.3 in /Users/catdev/.pyenv/versions/3.8.16/lib/python3.8/site-packages (from neuralprophet) (0.11.4)\n",
      "Requirement already satisfied: tensorboard<3.0.0,>=2.11.2 in /Users/catdev/.pyenv/versions/3.8.16/lib/python3.8/site-packages (from neuralprophet) (2.13.0)\n",
      "Requirement already satisfied: torch<2.0.0,>=1.13.1 in /Users/catdev/.pyenv/versions/3.8.16/lib/python3.8/site-packages (from neuralprophet) (1.13.1)\n",
      "Requirement already satisfied: pytorch-lightning<2.0.0,>=1.9.4 in /Users/catdev/.pyenv/versions/3.8.16/lib/python3.8/site-packages (from neuralprophet) (1.9.5)\n",
      "Requirement already satisfied: plotly<6.0.0,>=5.13.1 in /Users/catdev/.pyenv/versions/3.8.16/lib/python3.8/site-packages (from neuralprophet) (5.14.1)\n",
      "Requirement already satisfied: pymeeus<=1,>=0.3.13 in /Users/catdev/.pyenv/versions/3.8.16/lib/python3.8/site-packages (from convertdate>=2.1.2->prophet==1.0) (0.5.12)\n",
      "Requirement already satisfied: korean-lunar-calendar in /Users/catdev/.pyenv/versions/3.8.16/lib/python3.8/site-packages (from holidays>=0.10.2->prophet==1.0) (0.3.1)\n",
      "Requirement already satisfied: hijri-converter in /Users/catdev/.pyenv/versions/3.8.16/lib/python3.8/site-packages (from holidays>=0.10.2->prophet==1.0) (2.3.1)\n",
      "Requirement already satisfied: backports.zoneinfo in /Users/catdev/.pyenv/versions/3.8.16/lib/python3.8/site-packages (from holidays>=0.10.2->prophet==1.0) (0.2.1)\n",
      "Requirement already satisfied: pytz in /Users/catdev/.pyenv/versions/3.8.16/lib/python3.8/site-packages (from LunarCalendar>=0.0.9->prophet==1.0) (2023.3)\n",
      "Requirement already satisfied: ephem>=3.7.5.3 in /Users/catdev/.pyenv/versions/3.8.16/lib/python3.8/site-packages (from LunarCalendar>=0.0.9->prophet==1.0) (4.1.4)\n",
      "Requirement already satisfied: packaging>=20.0 in /Users/catdev/.pyenv/versions/3.8.16/lib/python3.8/site-packages (from matplotlib>=2.0.0->prophet==1.0) (23.1)\n",
      "Requirement already satisfied: pillow>=6.2.0 in /Users/catdev/.pyenv/versions/3.8.16/lib/python3.8/site-packages (from matplotlib>=2.0.0->prophet==1.0) (9.5.0)\n",
      "Requirement already satisfied: pyparsing>=2.3.1 in /Users/catdev/.pyenv/versions/3.8.16/lib/python3.8/site-packages (from matplotlib>=2.0.0->prophet==1.0) (3.0.9)\n",
      "Requirement already satisfied: importlib-resources>=3.2.0 in /Users/catdev/.pyenv/versions/3.8.16/lib/python3.8/site-packages (from matplotlib>=2.0.0->prophet==1.0) (5.12.0)\n",
      "Requirement already satisfied: contourpy>=1.0.1 in /Users/catdev/.pyenv/versions/3.8.16/lib/python3.8/site-packages (from matplotlib>=2.0.0->prophet==1.0) (1.0.7)\n",
      "Requirement already satisfied: cycler>=0.10 in /Users/catdev/.pyenv/versions/3.8.16/lib/python3.8/site-packages (from matplotlib>=2.0.0->prophet==1.0) (0.11.0)\n",
      "Requirement already satisfied: kiwisolver>=1.0.1 in /Users/catdev/.pyenv/versions/3.8.16/lib/python3.8/site-packages (from matplotlib>=2.0.0->prophet==1.0) (1.4.4)\n",
      "Requirement already satisfied: fonttools>=4.22.0 in /Users/catdev/.pyenv/versions/3.8.16/lib/python3.8/site-packages (from matplotlib>=2.0.0->prophet==1.0) (4.39.4)\n",
      "Requirement already satisfied: tenacity>=6.2.0 in /Users/catdev/.pyenv/versions/3.8.16/lib/python3.8/site-packages (from plotly<6.0.0,>=5.13.1->neuralprophet) (8.2.2)\n",
      "Requirement already satisfied: trace-updater>=0.0.8 in /Users/catdev/.pyenv/versions/3.8.16/lib/python3.8/site-packages (from plotly-resampler<0.9.0.0,>=0.8.3.1->neuralprophet) (0.0.9.1)\n",
      "Requirement already satisfied: orjson<4.0.0,>=3.8.0 in /Users/catdev/.pyenv/versions/3.8.16/lib/python3.8/site-packages (from plotly-resampler<0.9.0.0,>=0.8.3.1->neuralprophet) (3.8.12)\n",
      "Requirement already satisfied: jupyter-dash>=0.4.2 in /Users/catdev/.pyenv/versions/3.8.16/lib/python3.8/site-packages (from plotly-resampler<0.9.0.0,>=0.8.3.1->neuralprophet) (0.4.2)\n",
      "Requirement already satisfied: dash<3.0.0,>=2.2.0 in /Users/catdev/.pyenv/versions/3.8.16/lib/python3.8/site-packages (from plotly-resampler<0.9.0.0,>=0.8.3.1->neuralprophet) (2.9.3)\n",
      "Requirement already satisfied: six>=1.5 in /Users/catdev/.pyenv/versions/3.8.16/lib/python3.8/site-packages (from python-dateutil>=2.8.0->prophet==1.0) (1.16.0)\n",
      "Requirement already satisfied: fsspec[http]>2021.06.0 in /Users/catdev/.pyenv/versions/3.8.16/lib/python3.8/site-packages (from pytorch-lightning<2.0.0,>=1.9.4->neuralprophet) (2023.5.0)\n",
      "Requirement already satisfied: PyYAML>=5.4 in /Users/catdev/.pyenv/versions/3.8.16/lib/python3.8/site-packages (from pytorch-lightning<2.0.0,>=1.9.4->neuralprophet) (6.0)\n",
      "Requirement already satisfied: lightning-utilities>=0.6.0.post0 in /Users/catdev/.pyenv/versions/3.8.16/lib/python3.8/site-packages (from pytorch-lightning<2.0.0,>=1.9.4->neuralprophet) (0.8.0)\n",
      "Requirement already satisfied: requests<3,>=2.21.0 in /Users/catdev/.pyenv/versions/3.8.16/lib/python3.8/site-packages (from tensorboard<3.0.0,>=2.11.2->neuralprophet) (2.30.0)\n",
      "Requirement already satisfied: grpcio>=1.48.2 in /Users/catdev/.pyenv/versions/3.8.16/lib/python3.8/site-packages (from tensorboard<3.0.0,>=2.11.2->neuralprophet) (1.54.2)\n",
      "Requirement already satisfied: werkzeug>=1.0.1 in /Users/catdev/.pyenv/versions/3.8.16/lib/python3.8/site-packages (from tensorboard<3.0.0,>=2.11.2->neuralprophet) (2.3.4)\n",
      "Requirement already satisfied: setuptools>=41.0.0 in /Users/catdev/.pyenv/versions/3.8.16/lib/python3.8/site-packages (from tensorboard<3.0.0,>=2.11.2->neuralprophet) (56.0.0)\n",
      "Requirement already satisfied: wheel>=0.26 in /Users/catdev/.pyenv/versions/3.8.16/lib/python3.8/site-packages (from tensorboard<3.0.0,>=2.11.2->neuralprophet) (0.40.0)\n",
      "Requirement already satisfied: tensorboard-data-server<0.8.0,>=0.7.0 in /Users/catdev/.pyenv/versions/3.8.16/lib/python3.8/site-packages (from tensorboard<3.0.0,>=2.11.2->neuralprophet) (0.7.0)\n",
      "Requirement already satisfied: absl-py>=0.4 in /Users/catdev/.pyenv/versions/3.8.16/lib/python3.8/site-packages (from tensorboard<3.0.0,>=2.11.2->neuralprophet) (1.4.0)\n",
      "Requirement already satisfied: google-auth-oauthlib<1.1,>=0.5 in /Users/catdev/.pyenv/versions/3.8.16/lib/python3.8/site-packages (from tensorboard<3.0.0,>=2.11.2->neuralprophet) (1.0.0)\n",
      "Requirement already satisfied: google-auth<3,>=1.6.3 in /Users/catdev/.pyenv/versions/3.8.16/lib/python3.8/site-packages (from tensorboard<3.0.0,>=2.11.2->neuralprophet) (2.18.0)\n",
      "Requirement already satisfied: markdown>=2.6.8 in /Users/catdev/.pyenv/versions/3.8.16/lib/python3.8/site-packages (from tensorboard<3.0.0,>=2.11.2->neuralprophet) (3.4.3)\n",
      "Requirement already satisfied: protobuf>=3.19.6 in /Users/catdev/.pyenv/versions/3.8.16/lib/python3.8/site-packages (from tensorboard<3.0.0,>=2.11.2->neuralprophet) (4.23.0)\n",
      "Requirement already satisfied: Flask>=1.0.4 in /Users/catdev/.pyenv/versions/3.8.16/lib/python3.8/site-packages (from dash<3.0.0,>=2.2.0->plotly-resampler<0.9.0.0,>=0.8.3.1->neuralprophet) (2.3.2)\n",
      "Requirement already satisfied: dash-core-components==2.0.0 in /Users/catdev/.pyenv/versions/3.8.16/lib/python3.8/site-packages (from dash<3.0.0,>=2.2.0->plotly-resampler<0.9.0.0,>=0.8.3.1->neuralprophet) (2.0.0)\n",
      "Requirement already satisfied: dash-table==5.0.0 in /Users/catdev/.pyenv/versions/3.8.16/lib/python3.8/site-packages (from dash<3.0.0,>=2.2.0->plotly-resampler<0.9.0.0,>=0.8.3.1->neuralprophet) (5.0.0)\n",
      "Requirement already satisfied: dash-html-components==2.0.0 in /Users/catdev/.pyenv/versions/3.8.16/lib/python3.8/site-packages (from dash<3.0.0,>=2.2.0->plotly-resampler<0.9.0.0,>=0.8.3.1->neuralprophet) (2.0.0)\n",
      "Requirement already satisfied: aiohttp!=4.0.0a0,!=4.0.0a1 in /Users/catdev/.pyenv/versions/3.8.16/lib/python3.8/site-packages (from fsspec[http]>2021.06.0->pytorch-lightning<2.0.0,>=1.9.4->neuralprophet) (3.8.4)\n",
      "Requirement already satisfied: rsa<5,>=3.1.4 in /Users/catdev/.pyenv/versions/3.8.16/lib/python3.8/site-packages (from google-auth<3,>=1.6.3->tensorboard<3.0.0,>=2.11.2->neuralprophet) (4.9)\n",
      "Requirement already satisfied: cachetools<6.0,>=2.0.0 in /Users/catdev/.pyenv/versions/3.8.16/lib/python3.8/site-packages (from google-auth<3,>=1.6.3->tensorboard<3.0.0,>=2.11.2->neuralprophet) (5.3.0)\n",
      "Requirement already satisfied: urllib3<2.0 in /Users/catdev/.pyenv/versions/3.8.16/lib/python3.8/site-packages (from google-auth<3,>=1.6.3->tensorboard<3.0.0,>=2.11.2->neuralprophet) (1.26.15)\n",
      "Requirement already satisfied: pyasn1-modules>=0.2.1 in /Users/catdev/.pyenv/versions/3.8.16/lib/python3.8/site-packages (from google-auth<3,>=1.6.3->tensorboard<3.0.0,>=2.11.2->neuralprophet) (0.3.0)\n",
      "Requirement already satisfied: requests-oauthlib>=0.7.0 in /Users/catdev/.pyenv/versions/3.8.16/lib/python3.8/site-packages (from google-auth-oauthlib<1.1,>=0.5->tensorboard<3.0.0,>=2.11.2->neuralprophet) (1.3.1)\n",
      "Requirement already satisfied: zipp>=3.1.0 in /Users/catdev/.pyenv/versions/3.8.16/lib/python3.8/site-packages (from importlib-resources>=3.2.0->matplotlib>=2.0.0->prophet==1.0) (3.15.0)\n",
      "Requirement already satisfied: retrying in /Users/catdev/.pyenv/versions/3.8.16/lib/python3.8/site-packages (from jupyter-dash>=0.4.2->plotly-resampler<0.9.0.0,>=0.8.3.1->neuralprophet) (1.3.4)\n",
      "Requirement already satisfied: nest-asyncio in /Users/catdev/.pyenv/versions/3.8.16/lib/python3.8/site-packages (from jupyter-dash>=0.4.2->plotly-resampler<0.9.0.0,>=0.8.3.1->neuralprophet) (1.5.6)\n",
      "Requirement already satisfied: ipython in /Users/catdev/.pyenv/versions/3.8.16/lib/python3.8/site-packages (from jupyter-dash>=0.4.2->plotly-resampler<0.9.0.0,>=0.8.3.1->neuralprophet) (8.12.2)\n",
      "Requirement already satisfied: ansi2html in /Users/catdev/.pyenv/versions/3.8.16/lib/python3.8/site-packages (from jupyter-dash>=0.4.2->plotly-resampler<0.9.0.0,>=0.8.3.1->neuralprophet) (1.8.0)\n",
      "Requirement already satisfied: ipykernel in /Users/catdev/.pyenv/versions/3.8.16/lib/python3.8/site-packages (from jupyter-dash>=0.4.2->plotly-resampler<0.9.0.0,>=0.8.3.1->neuralprophet) (6.23.1)\n",
      "Requirement already satisfied: importlib-metadata>=4.4 in /Users/catdev/.pyenv/versions/3.8.16/lib/python3.8/site-packages (from markdown>=2.6.8->tensorboard<3.0.0,>=2.11.2->neuralprophet) (6.6.0)\n",
      "Requirement already satisfied: charset-normalizer<4,>=2 in /Users/catdev/.pyenv/versions/3.8.16/lib/python3.8/site-packages (from requests<3,>=2.21.0->tensorboard<3.0.0,>=2.11.2->neuralprophet) (3.1.0)\n",
      "Requirement already satisfied: idna<4,>=2.5 in /Users/catdev/.pyenv/versions/3.8.16/lib/python3.8/site-packages (from requests<3,>=2.21.0->tensorboard<3.0.0,>=2.11.2->neuralprophet) (3.4)\n",
      "Requirement already satisfied: certifi>=2017.4.17 in /Users/catdev/.pyenv/versions/3.8.16/lib/python3.8/site-packages (from requests<3,>=2.21.0->tensorboard<3.0.0,>=2.11.2->neuralprophet) (2023.5.7)\n",
      "Requirement already satisfied: MarkupSafe>=2.1.1 in /Users/catdev/.pyenv/versions/3.8.16/lib/python3.8/site-packages (from werkzeug>=1.0.1->tensorboard<3.0.0,>=2.11.2->neuralprophet) (2.1.2)\n",
      "Requirement already satisfied: aiosignal>=1.1.2 in /Users/catdev/.pyenv/versions/3.8.16/lib/python3.8/site-packages (from aiohttp!=4.0.0a0,!=4.0.0a1->fsspec[http]>2021.06.0->pytorch-lightning<2.0.0,>=1.9.4->neuralprophet) (1.3.1)\n",
      "Requirement already satisfied: frozenlist>=1.1.1 in /Users/catdev/.pyenv/versions/3.8.16/lib/python3.8/site-packages (from aiohttp!=4.0.0a0,!=4.0.0a1->fsspec[http]>2021.06.0->pytorch-lightning<2.0.0,>=1.9.4->neuralprophet) (1.3.3)\n",
      "Requirement already satisfied: multidict<7.0,>=4.5 in /Users/catdev/.pyenv/versions/3.8.16/lib/python3.8/site-packages (from aiohttp!=4.0.0a0,!=4.0.0a1->fsspec[http]>2021.06.0->pytorch-lightning<2.0.0,>=1.9.4->neuralprophet) (6.0.4)\n",
      "Requirement already satisfied: async-timeout<5.0,>=4.0.0a3 in /Users/catdev/.pyenv/versions/3.8.16/lib/python3.8/site-packages (from aiohttp!=4.0.0a0,!=4.0.0a1->fsspec[http]>2021.06.0->pytorch-lightning<2.0.0,>=1.9.4->neuralprophet) (4.0.2)\n",
      "Requirement already satisfied: attrs>=17.3.0 in /Users/catdev/.pyenv/versions/3.8.16/lib/python3.8/site-packages (from aiohttp!=4.0.0a0,!=4.0.0a1->fsspec[http]>2021.06.0->pytorch-lightning<2.0.0,>=1.9.4->neuralprophet) (23.1.0)\n",
      "Requirement already satisfied: yarl<2.0,>=1.0 in /Users/catdev/.pyenv/versions/3.8.16/lib/python3.8/site-packages (from aiohttp!=4.0.0a0,!=4.0.0a1->fsspec[http]>2021.06.0->pytorch-lightning<2.0.0,>=1.9.4->neuralprophet) (1.9.2)\n",
      "Requirement already satisfied: blinker>=1.6.2 in /Users/catdev/.pyenv/versions/3.8.16/lib/python3.8/site-packages (from Flask>=1.0.4->dash<3.0.0,>=2.2.0->plotly-resampler<0.9.0.0,>=0.8.3.1->neuralprophet) (1.6.2)\n",
      "Requirement already satisfied: itsdangerous>=2.1.2 in /Users/catdev/.pyenv/versions/3.8.16/lib/python3.8/site-packages (from Flask>=1.0.4->dash<3.0.0,>=2.2.0->plotly-resampler<0.9.0.0,>=0.8.3.1->neuralprophet) (2.1.2)\n",
      "Requirement already satisfied: click>=8.1.3 in /Users/catdev/.pyenv/versions/3.8.16/lib/python3.8/site-packages (from Flask>=1.0.4->dash<3.0.0,>=2.2.0->plotly-resampler<0.9.0.0,>=0.8.3.1->neuralprophet) (8.1.3)\n",
      "Requirement already satisfied: Jinja2>=3.1.2 in /Users/catdev/.pyenv/versions/3.8.16/lib/python3.8/site-packages (from Flask>=1.0.4->dash<3.0.0,>=2.2.0->plotly-resampler<0.9.0.0,>=0.8.3.1->neuralprophet) (3.1.2)\n",
      "Requirement already satisfied: pyasn1<0.6.0,>=0.4.6 in /Users/catdev/.pyenv/versions/3.8.16/lib/python3.8/site-packages (from pyasn1-modules>=0.2.1->google-auth<3,>=1.6.3->tensorboard<3.0.0,>=2.11.2->neuralprophet) (0.5.0)\n",
      "Requirement already satisfied: oauthlib>=3.0.0 in /Users/catdev/.pyenv/versions/3.8.16/lib/python3.8/site-packages (from requests-oauthlib>=0.7.0->google-auth-oauthlib<1.1,>=0.5->tensorboard<3.0.0,>=2.11.2->neuralprophet) (3.2.2)\n",
      "Requirement already satisfied: pyzmq>=20 in /Users/catdev/.pyenv/versions/3.8.16/lib/python3.8/site-packages (from ipykernel->jupyter-dash>=0.4.2->plotly-resampler<0.9.0.0,>=0.8.3.1->neuralprophet) (25.0.2)\n",
      "Requirement already satisfied: traitlets>=5.4.0 in /Users/catdev/.pyenv/versions/3.8.16/lib/python3.8/site-packages (from ipykernel->jupyter-dash>=0.4.2->plotly-resampler<0.9.0.0,>=0.8.3.1->neuralprophet) (5.9.0)\n",
      "Requirement already satisfied: jupyter-client>=6.1.12 in /Users/catdev/.pyenv/versions/3.8.16/lib/python3.8/site-packages (from ipykernel->jupyter-dash>=0.4.2->plotly-resampler<0.9.0.0,>=0.8.3.1->neuralprophet) (8.2.0)\n",
      "Requirement already satisfied: comm>=0.1.1 in /Users/catdev/.pyenv/versions/3.8.16/lib/python3.8/site-packages (from ipykernel->jupyter-dash>=0.4.2->plotly-resampler<0.9.0.0,>=0.8.3.1->neuralprophet) (0.1.3)\n",
      "Requirement already satisfied: psutil in /Users/catdev/.pyenv/versions/3.8.16/lib/python3.8/site-packages (from ipykernel->jupyter-dash>=0.4.2->plotly-resampler<0.9.0.0,>=0.8.3.1->neuralprophet) (5.9.5)\n",
      "Requirement already satisfied: matplotlib-inline>=0.1 in /Users/catdev/.pyenv/versions/3.8.16/lib/python3.8/site-packages (from ipykernel->jupyter-dash>=0.4.2->plotly-resampler<0.9.0.0,>=0.8.3.1->neuralprophet) (0.1.6)\n",
      "Requirement already satisfied: jupyter-core!=5.0.*,>=4.12 in /Users/catdev/.pyenv/versions/3.8.16/lib/python3.8/site-packages (from ipykernel->jupyter-dash>=0.4.2->plotly-resampler<0.9.0.0,>=0.8.3.1->neuralprophet) (5.3.0)\n",
      "Requirement already satisfied: debugpy>=1.6.5 in /Users/catdev/.pyenv/versions/3.8.16/lib/python3.8/site-packages (from ipykernel->jupyter-dash>=0.4.2->plotly-resampler<0.9.0.0,>=0.8.3.1->neuralprophet) (1.6.7)\n",
      "Requirement already satisfied: appnope in /Users/catdev/.pyenv/versions/3.8.16/lib/python3.8/site-packages (from ipykernel->jupyter-dash>=0.4.2->plotly-resampler<0.9.0.0,>=0.8.3.1->neuralprophet) (0.1.3)\n",
      "Requirement already satisfied: tornado>=6.1 in /Users/catdev/.pyenv/versions/3.8.16/lib/python3.8/site-packages (from ipykernel->jupyter-dash>=0.4.2->plotly-resampler<0.9.0.0,>=0.8.3.1->neuralprophet) (6.3.2)\n",
      "Requirement already satisfied: prompt-toolkit!=3.0.37,<3.1.0,>=3.0.30 in /Users/catdev/.pyenv/versions/3.8.16/lib/python3.8/site-packages (from ipython->jupyter-dash>=0.4.2->plotly-resampler<0.9.0.0,>=0.8.3.1->neuralprophet) (3.0.38)\n",
      "Requirement already satisfied: backcall in /Users/catdev/.pyenv/versions/3.8.16/lib/python3.8/site-packages (from ipython->jupyter-dash>=0.4.2->plotly-resampler<0.9.0.0,>=0.8.3.1->neuralprophet) (0.2.0)\n",
      "Requirement already satisfied: pickleshare in /Users/catdev/.pyenv/versions/3.8.16/lib/python3.8/site-packages (from ipython->jupyter-dash>=0.4.2->plotly-resampler<0.9.0.0,>=0.8.3.1->neuralprophet) (0.7.5)\n",
      "Requirement already satisfied: pexpect>4.3 in /Users/catdev/.pyenv/versions/3.8.16/lib/python3.8/site-packages (from ipython->jupyter-dash>=0.4.2->plotly-resampler<0.9.0.0,>=0.8.3.1->neuralprophet) (4.8.0)\n",
      "Requirement already satisfied: pygments>=2.4.0 in /Users/catdev/.pyenv/versions/3.8.16/lib/python3.8/site-packages (from ipython->jupyter-dash>=0.4.2->plotly-resampler<0.9.0.0,>=0.8.3.1->neuralprophet) (2.15.1)\n",
      "Requirement already satisfied: stack-data in /Users/catdev/.pyenv/versions/3.8.16/lib/python3.8/site-packages (from ipython->jupyter-dash>=0.4.2->plotly-resampler<0.9.0.0,>=0.8.3.1->neuralprophet) (0.6.2)\n",
      "Requirement already satisfied: decorator in /Users/catdev/.pyenv/versions/3.8.16/lib/python3.8/site-packages (from ipython->jupyter-dash>=0.4.2->plotly-resampler<0.9.0.0,>=0.8.3.1->neuralprophet) (5.1.1)\n",
      "Requirement already satisfied: jedi>=0.16 in /Users/catdev/.pyenv/versions/3.8.16/lib/python3.8/site-packages (from ipython->jupyter-dash>=0.4.2->plotly-resampler<0.9.0.0,>=0.8.3.1->neuralprophet) (0.18.2)\n",
      "Requirement already satisfied: parso<0.9.0,>=0.8.0 in /Users/catdev/.pyenv/versions/3.8.16/lib/python3.8/site-packages (from jedi>=0.16->ipython->jupyter-dash>=0.4.2->plotly-resampler<0.9.0.0,>=0.8.3.1->neuralprophet) (0.8.3)\n",
      "Requirement already satisfied: platformdirs>=2.5 in /Users/catdev/.pyenv/versions/3.8.16/lib/python3.8/site-packages (from jupyter-core!=5.0.*,>=4.12->ipykernel->jupyter-dash>=0.4.2->plotly-resampler<0.9.0.0,>=0.8.3.1->neuralprophet) (3.5.1)\n",
      "Requirement already satisfied: ptyprocess>=0.5 in /Users/catdev/.pyenv/versions/3.8.16/lib/python3.8/site-packages (from pexpect>4.3->ipython->jupyter-dash>=0.4.2->plotly-resampler<0.9.0.0,>=0.8.3.1->neuralprophet) (0.7.0)\n",
      "Requirement already satisfied: wcwidth in /Users/catdev/.pyenv/versions/3.8.16/lib/python3.8/site-packages (from prompt-toolkit!=3.0.37,<3.1.0,>=3.0.30->ipython->jupyter-dash>=0.4.2->plotly-resampler<0.9.0.0,>=0.8.3.1->neuralprophet) (0.2.6)\n",
      "Requirement already satisfied: asttokens>=2.1.0 in /Users/catdev/.pyenv/versions/3.8.16/lib/python3.8/site-packages (from stack-data->ipython->jupyter-dash>=0.4.2->plotly-resampler<0.9.0.0,>=0.8.3.1->neuralprophet) (2.2.1)\n",
      "Requirement already satisfied: executing>=1.2.0 in /Users/catdev/.pyenv/versions/3.8.16/lib/python3.8/site-packages (from stack-data->ipython->jupyter-dash>=0.4.2->plotly-resampler<0.9.0.0,>=0.8.3.1->neuralprophet) (1.2.0)\n",
      "Requirement already satisfied: pure-eval in /Users/catdev/.pyenv/versions/3.8.16/lib/python3.8/site-packages (from stack-data->ipython->jupyter-dash>=0.4.2->plotly-resampler<0.9.0.0,>=0.8.3.1->neuralprophet) (0.2.2)\n",
      "\u001b[33mWARNING: You are using pip version 22.0.4; however, version 23.1.2 is available.\n",
      "You should consider upgrading via the '/Users/catdev/.pyenv/versions/3.8.16/bin/python3.8 -m pip install --upgrade pip' command.\u001b[0m\u001b[33m\n",
      "\u001b[0m"
     ]
    }
   ],
   "source": [
    "!pip install neuralprophet prophet==1.0 pystan==2.19.1.1  "
   ]
  },
  {
   "cell_type": "code",
   "execution_count": 2,
   "id": "bacf0aea",
   "metadata": {
    "tags": []
   },
   "outputs": [
    {
     "name": "stderr",
     "output_type": "stream",
     "text": [
      "/Users/catdev/.pyenv/versions/3.8.16/lib/python3.8/site-packages/tqdm/auto.py:21: TqdmWarning: IProgress not found. Please update jupyter and ipywidgets. See https://ipywidgets.readthedocs.io/en/stable/user_install.html\n",
      "  from .autonotebook import tqdm as notebook_tqdm\n"
     ]
    }
   ],
   "source": [
    "import pandas as pd\n",
    "from neuralprophet import NeuralProphet\n",
    "from prophet import Prophet\n",
    "from matplotlib import pyplot as plt\n",
    "import pickle\n",
    "import asyncio\n",
    "from datetime import datetime\n",
    "import json\n"
   ]
  },
  {
   "cell_type": "code",
   "execution_count": 3,
   "id": "5a4b032c",
   "metadata": {
    "tags": []
   },
   "outputs": [
    {
     "data": {
      "text/html": [
       "<div>\n",
       "<style scoped>\n",
       "    .dataframe tbody tr th:only-of-type {\n",
       "        vertical-align: middle;\n",
       "    }\n",
       "\n",
       "    .dataframe tbody tr th {\n",
       "        vertical-align: top;\n",
       "    }\n",
       "\n",
       "    .dataframe thead th {\n",
       "        text-align: right;\n",
       "    }\n",
       "</style>\n",
       "<table border=\"1\" class=\"dataframe\">\n",
       "  <thead>\n",
       "    <tr style=\"text-align: right;\">\n",
       "      <th></th>\n",
       "      <th>id</th>\n",
       "      <th>createdAt</th>\n",
       "      <th>weatherRecord</th>\n",
       "      <th>WeatherStation</th>\n",
       "      <th>weatherStationId</th>\n",
       "    </tr>\n",
       "  </thead>\n",
       "  <tbody>\n",
       "    <tr>\n",
       "      <th>0</th>\n",
       "      <td>3251630</td>\n",
       "      <td>2023-06-12 21:00:13.504</td>\n",
       "      <td>{'humidityFromDTH22': 81.30000305, 'pressureFr...</td>\n",
       "      <td>None</td>\n",
       "      <td>b92047e5-b481-4374-9fde-12eb295bf373</td>\n",
       "    </tr>\n",
       "    <tr>\n",
       "      <th>1</th>\n",
       "      <td>3251631</td>\n",
       "      <td>2023-06-12 21:00:14.505</td>\n",
       "      <td>{'humidityFromDTH22': 81.30000305, 'pressureFr...</td>\n",
       "      <td>None</td>\n",
       "      <td>b92047e5-b481-4374-9fde-12eb295bf373</td>\n",
       "    </tr>\n",
       "    <tr>\n",
       "      <th>2</th>\n",
       "      <td>3251632</td>\n",
       "      <td>2023-06-12 21:00:15.538</td>\n",
       "      <td>{'humidityFromDTH22': 81.30000305, 'pressureFr...</td>\n",
       "      <td>None</td>\n",
       "      <td>b92047e5-b481-4374-9fde-12eb295bf373</td>\n",
       "    </tr>\n",
       "    <tr>\n",
       "      <th>3</th>\n",
       "      <td>3251633</td>\n",
       "      <td>2023-06-12 21:00:16.571</td>\n",
       "      <td>{'humidityFromDTH22': 81.30000305, 'pressureFr...</td>\n",
       "      <td>None</td>\n",
       "      <td>b92047e5-b481-4374-9fde-12eb295bf373</td>\n",
       "    </tr>\n",
       "    <tr>\n",
       "      <th>4</th>\n",
       "      <td>3251634</td>\n",
       "      <td>2023-06-12 21:00:17.594</td>\n",
       "      <td>{'humidityFromDTH22': 81.30000305, 'pressureFr...</td>\n",
       "      <td>None</td>\n",
       "      <td>b92047e5-b481-4374-9fde-12eb295bf373</td>\n",
       "    </tr>\n",
       "  </tbody>\n",
       "</table>\n",
       "</div>"
      ],
      "text/plain": [
       "        id               createdAt  \\\n",
       "0  3251630 2023-06-12 21:00:13.504   \n",
       "1  3251631 2023-06-12 21:00:14.505   \n",
       "2  3251632 2023-06-12 21:00:15.538   \n",
       "3  3251633 2023-06-12 21:00:16.571   \n",
       "4  3251634 2023-06-12 21:00:17.594   \n",
       "\n",
       "                                       weatherRecord WeatherStation  \\\n",
       "0  {'humidityFromDTH22': 81.30000305, 'pressureFr...           None   \n",
       "1  {'humidityFromDTH22': 81.30000305, 'pressureFr...           None   \n",
       "2  {'humidityFromDTH22': 81.30000305, 'pressureFr...           None   \n",
       "3  {'humidityFromDTH22': 81.30000305, 'pressureFr...           None   \n",
       "4  {'humidityFromDTH22': 81.30000305, 'pressureFr...           None   \n",
       "\n",
       "                       weatherStationId  \n",
       "0  b92047e5-b481-4374-9fde-12eb295bf373  \n",
       "1  b92047e5-b481-4374-9fde-12eb295bf373  \n",
       "2  b92047e5-b481-4374-9fde-12eb295bf373  \n",
       "3  b92047e5-b481-4374-9fde-12eb295bf373  \n",
       "4  b92047e5-b481-4374-9fde-12eb295bf373  "
      ]
     },
     "execution_count": 3,
     "metadata": {},
     "output_type": "execute_result"
    }
   ],
   "source": [
    "weatherData = pd.read_json('weatherData.json')\n",
    "combined_array = []\n",
    "combined_array.extend(weatherData.weather_records[0])\n",
    "combined_array.extend(weatherData.weather_records[1])\n",
    "combined_array.extend(weatherData.weather_records[2])\n",
    "weatherData = pd.DataFrame(combined_array)\n",
    "weatherData.head()\n",
    "\n",
    "weatherData['createdAt'] = pd.to_datetime(weatherData['createdAt']).dt.tz_localize(None)\n",
    "# weatherData['weatherRecord'] = weatherData['weatherRecord'].apply(lambda x: json.loads(x))\n",
    "weatherData.head()\n",
    "\n",
    "# weatherDataWithoutLast7Days = pd.read_csv('weather_records.csv')\n",
    "# weatherDataWithoutLast7Days['createdAt'] = pd.to_datetime(weatherDataWithoutLast7Days['createdAt']).dt.tz_localize(None)\n",
    "# weatherDataWithoutLast7Days = weatherDataWithoutLast7Days[weatherDataWithoutLast7Days['createdAt'] < weatherDataWithoutLast7Days['createdAt'].max() - pd.DateOffset(days=7)]\n",
    "# weatherDataWithoutLast7Days['weatherRecord'] = weatherDataWithoutLast7Days['weatherRecord'].apply(lambda x: json.loads(x))\n",
    "# weatherDataWithoutLast7Days.head()"
   ]
  },
  {
   "cell_type": "code",
   "execution_count": 4,
   "id": "09e191b5",
   "metadata": {},
   "outputs": [
    {
     "name": "stdout",
     "output_type": "stream",
     "text": [
      "84311\n"
     ]
    }
   ],
   "source": [
    "print(len(weatherData))"
   ]
  },
  {
   "cell_type": "code",
   "execution_count": 5,
   "id": "6d8349b9-cfc6-4c3e-b912-106e8747fb6a",
   "metadata": {
    "tags": []
   },
   "outputs": [
    {
     "data": {
      "text/plain": [
       "id                           int64\n",
       "createdAt           datetime64[ns]\n",
       "weatherRecord               object\n",
       "WeatherStation              object\n",
       "weatherStationId            object\n",
       "dtype: object"
      ]
     },
     "execution_count": 5,
     "metadata": {},
     "output_type": "execute_result"
    }
   ],
   "source": [
    "weatherData.dtypes\n",
    "# df['weatherRecord'].apply(lambda x: x['humidityFromDTH22'])"
   ]
  },
  {
   "cell_type": "code",
   "execution_count": 8,
   "id": "eea226da",
   "metadata": {},
   "outputs": [
    {
     "data": {
      "image/png": "[encoded data removed]",
      "text/plain": [
       "<Figure size 1400x600 with 1 Axes>"
      ]
     },
     "metadata": {},
     "output_type": "display_data"
    }
   ],
   "source": [
    "plt.figure(figsize=(14, 6))\n",
    "plt.plot(weatherData['createdAt'], weatherData['weatherRecord'].apply(lambda x: x['temperatureFromDTH22'] if x['temperatureFromDTH22'] <= 200000 else None))\n",
    "plt.title(\"Temperature Data from DTH22 Sensor\")\n",
    "plt.show()"
   ]
  },
  {
   "cell_type": "code",
   "execution_count": 15,
   "id": "1d6c50db",
   "metadata": {},
   "outputs": [],
   "source": [
    "data = pd.DataFrame({'ds': weatherData['createdAt'], 'y': weatherData['weatherRecord'].apply(lambda x: x['temperatureFromDTH22']) })\n",
    "# data = pd.DataFrame({'ds': df['createdAt'], 'y': df['weatherRecord'].apply(lambda x: x['pressureFromBMP180'] if x['pressureFromBMP180'] <= 200000 else None)})\n",
    "data = data.drop_duplicates()\n",
    "data = data.dropna()\n",
    "\n",
    "\n"
   ]
  },
  {
   "cell_type": "markdown",
   "id": "17d544c8-853f-427c-9c9c-af6ac08ea2e4",
   "metadata": {},
   "source": [
    "# Train modal"
   ]
  },
  {
   "cell_type": "code",
   "execution_count": 16,
   "id": "8268b2e2",
   "metadata": {},
   "outputs": [
    {
     "name": "stderr",
     "output_type": "stream",
     "text": [
      "WARNING - (NP.plotting.log_warning_deprecation_plotly) - DeprecationWarning: default plotting_backend will be changed to plotly in a future version. Switch to plotly by calling `m.set_plotting_backend('plotly')`.\n",
      "WARNING - (NP.forecaster.fit) - When Global modeling with local normalization, metrics are displayed in normalized scale.\n",
      "INFO - (NP.df_utils._infer_frequency) - Major frequency 1027L corresponds to 6.239% of the data.\n",
      "WARNING - (NP.df_utils._infer_frequency) - Dataframe has multiple frequencies. It will be resampled according to given freq 10min. Ignore message if actual frequency is any of the following:  SM, BM, CBM, SMS, BMS, CBMS, BQ, BQS, BA, or, BAS.\n",
      "INFO - (NP.config.init_data_params) - Setting normalization to global as only one dataframe provided for training.\n",
      "INFO - (NP.utils.set_auto_seasonalities) - Disabling yearly seasonality. Run NeuralProphet with yearly_seasonality=True to override this.\n",
      "INFO - (NP.utils.set_auto_seasonalities) - Disabling weekly seasonality. Run NeuralProphet with weekly_seasonality=True to override this.\n",
      "INFO - (NP.utils.set_auto_seasonalities) - Disabling daily seasonality. Run NeuralProphet with daily_seasonality=True to override this.\n",
      "INFO - (NP.config.set_auto_batch_epoch) - Auto-set batch_size to 64\n",
      "WARNING - (py.warnings._showwarnmsg) - /Users/catdev/.pyenv/versions/3.8.16/lib/python3.8/site-packages/pytorch_lightning/trainer/setup.py:201: UserWarning: MPS available but not used. Set `accelerator` and `devices` using `Trainer(accelerator='mps', devices=1)`.\n",
      "  rank_zero_warn(\n",
      "\n",
      "Finding best initial lr: 100%|███████████████████████████████████████████████████████████████████████████████████████████████████████████████████████████████████████████████████████████████████████████████████████████████████████████████████████████████████████████████████████████████████████████████████████████████████████████████████████████████████| 273/273 [00:00<00:00, 369.75it/s]\n"
     ]
    },
    {
     "name": "stdout",
     "output_type": "stream",
     "text": [
      "Epoch 5: 100%|██████████████████████████████████████████████████████████████████████████████████████████████████████████████████████████████████████████████████████████████████████████████████████████████████████████████████████████████████████████████████████████████████████████| 5/5 [00:02<00:00,  1.76it/s, loss=0.000925, v_num=31, MAE=0.308, RMSE=0.499, Loss=0.000997, RegLoss=0.000]\n"
     ]
    }
   ],
   "source": [
    "\n",
    "\n",
    "m = NeuralProphet(\n",
    "    growth=\"linear\",  # Determine trend types: 'linear', 'discontinuous', 'off'\n",
    "    changepoints_range=0.95,\n",
    "    trend_reg_threshold=False,\n",
    "    #yearly_seasonality=\"auto\",\n",
    "    #weekly_seasonality=\"auto\",\n",
    "    #daily_seasonality=\"auto\",\n",
    "    seasonality_mode=\"additive\",\n",
    "    # trend_reg=5,\n",
    "    # yearly_seasonality=True,\n",
    "    # weekly_seasonality=True,\n",
    "    # daily_seasonality=False,\n",
    "    # seasonality_reg=0,\n",
    "    # n_forecasts=1,\n",
    "    # n_lags=7,\n",
    "    # batch_size=32,\n",
    "    # num_hidden_layers=2,\n",
    "    # d_hidden=4,     # Dimension of hidden layers of AR-Net\n",
    "    # ar_sparsity=None,  # Sparcity in the AR coefficients\n",
    "    epochs=10,\n",
    "    #learning_rate=0.1,\n",
    "    loss_func=\"Huber\",\n",
    "    normalize=\"auto\",  # Type of normalization ('minmax', 'standardize', 'soft', 'off')\n",
    "    impute_missing=True\n",
    ")\n",
    "\n",
    "\n",
    "m.set_plotting_backend(\"matplotlib\")  # Use matplotlib due to #1235\n",
    "metrics = m.fit(data, freq='10min', epochs=10)\n"
   ]
  },
  {
   "cell_type": "code",
   "execution_count": 24,
   "id": "5163cfe6",
   "metadata": {},
   "outputs": [
    {
     "name": "stderr",
     "output_type": "stream",
     "text": [
      "INFO - (NP.df_utils._infer_frequency) - Major frequency 1027L corresponds to 6.239% of the data.\n",
      "WARNING - (NP.df_utils._infer_frequency) - Dataframe has multiple frequencies. It will be resampled according to given freq 10min. Ignore message if actual frequency is any of the following:  SM, BM, CBM, SMS, BMS, CBMS, BQ, BQS, BA, or, BAS.\n",
      "INFO - (NP.df_utils.return_df_in_original_format) - Returning df with no ID column\n",
      "INFO - (NP.df_utils._infer_frequency) - Major frequency 10T corresponds to 99.667% of the data.\n",
      "INFO - (NP.df_utils._infer_frequency) - Defined frequency is equal to major frequency - 10min\n",
      "INFO - (NP.df_utils._infer_frequency) - Major frequency 10T corresponds to 99.667% of the data.\n",
      "INFO - (NP.df_utils._infer_frequency) - Defined frequency is equal to major frequency - 10min\n"
     ]
    },
    {
     "name": "stdout",
     "output_type": "stream",
     "text": [
      "Predicting DataLoader 0: 100%|███████████████████████████████████████████████████████████████████████████████████████████████████████████████████████████████████████████████████████████████████████████████████████████████████████████████████████████████████████████████████████████████████████████████████████████████████████████████████████████████████████| 1/1 [00:00<00:00, 321.75it/s]"
     ]
    },
    {
     "name": "stderr",
     "output_type": "stream",
     "text": [
      "INFO - (NP.df_utils.return_df_in_original_format) - Returning df with no ID column\n"
     ]
    },
    {
     "name": "stdout",
     "output_type": "stream",
     "text": [
      "\n"
     ]
    },
    {
     "data": {
      "text/html": [
       "<div>\n",
       "<style scoped>\n",
       "    .dataframe tbody tr th:only-of-type {\n",
       "        vertical-align: middle;\n",
       "    }\n",
       "\n",
       "    .dataframe tbody tr th {\n",
       "        vertical-align: top;\n",
       "    }\n",
       "\n",
       "    .dataframe thead th {\n",
       "        text-align: right;\n",
       "    }\n",
       "</style>\n",
       "<table border=\"1\" class=\"dataframe\">\n",
       "  <thead>\n",
       "    <tr style=\"text-align: right;\">\n",
       "      <th></th>\n",
       "      <th>ds</th>\n",
       "      <th>y</th>\n",
       "      <th>yhat1</th>\n",
       "      <th>trend</th>\n",
       "    </tr>\n",
       "  </thead>\n",
       "  <tbody>\n",
       "    <tr>\n",
       "      <th>0</th>\n",
       "      <td>2023-06-13 21:10:12.534</td>\n",
       "      <td>None</td>\n",
       "      <td>18.194506</td>\n",
       "      <td>18.194506</td>\n",
       "    </tr>\n",
       "    <tr>\n",
       "      <th>1</th>\n",
       "      <td>2023-06-13 21:20:12.534</td>\n",
       "      <td>None</td>\n",
       "      <td>18.150795</td>\n",
       "      <td>18.150795</td>\n",
       "    </tr>\n",
       "    <tr>\n",
       "      <th>2</th>\n",
       "      <td>2023-06-13 21:30:12.534</td>\n",
       "      <td>None</td>\n",
       "      <td>18.107084</td>\n",
       "      <td>18.107084</td>\n",
       "    </tr>\n",
       "    <tr>\n",
       "      <th>3</th>\n",
       "      <td>2023-06-13 21:40:12.534</td>\n",
       "      <td>None</td>\n",
       "      <td>18.063374</td>\n",
       "      <td>18.063374</td>\n",
       "    </tr>\n",
       "    <tr>\n",
       "      <th>4</th>\n",
       "      <td>2023-06-13 21:50:12.534</td>\n",
       "      <td>None</td>\n",
       "      <td>18.019663</td>\n",
       "      <td>18.019663</td>\n",
       "    </tr>\n",
       "  </tbody>\n",
       "</table>\n",
       "</div>"
      ],
      "text/plain": [
       "                       ds     y      yhat1      trend\n",
       "0 2023-06-13 21:10:12.534  None  18.194506  18.194506\n",
       "1 2023-06-13 21:20:12.534  None  18.150795  18.150795\n",
       "2 2023-06-13 21:30:12.534  None  18.107084  18.107084\n",
       "3 2023-06-13 21:40:12.534  None  18.063374  18.063374\n",
       "4 2023-06-13 21:50:12.534  None  18.019663  18.019663"
      ]
     },
     "execution_count": 24,
     "metadata": {},
     "output_type": "execute_result"
    }
   ],
   "source": [
    "future = m.make_future_dataframe(data, periods=300)\n",
    "forecast = m.predict(future)\n",
    "forecast.head()"
   ]
  },
  {
   "cell_type": "code",
   "execution_count": 27,
   "id": "2736723c",
   "metadata": {},
   "outputs": [
    {
     "data": {
      "image/png": "[encoded data removed]",
      "text/plain": [
       "<Figure size 1200x600 with 1 Axes>"
      ]
     },
     "metadata": {},
     "output_type": "display_data"
    }
   ],
   "source": [
    "fig, ax = plt.subplots(figsize=(12, 6))\n",
    "\n",
    "# Plot actual weather data\n",
    "plt.plot(weatherData['createdAt'], weatherData['weatherRecord'].apply(lambda x: x['temperatureFromDTH22']), label='Actual data')\n",
    "\n",
    "# Plot predicted data\n",
    "ax.plot(forecast['ds'], forecast['yhat1'], label='Predicted data', linewidth=4, color='red')\n",
    "\n",
    "ax.set_xlabel('Time')\n",
    "ax.set_ylabel('Temperature')\n",
    "ax.set_title('Temperature forecast for 7 days')\n",
    "\n",
    "ax.legend()\n",
    "plt.show()"
   ]
  },
  {
   "cell_type": "markdown",
   "id": "510ddbd4-4fd4-44b9-9df5-8be34e247024",
   "metadata": {},
   "source": [
    "# Train modal with Prophet"
   ]
  },
  {
   "cell_type": "markdown",
   "id": "b82572e9-bb39-4ace-9466-1f4d6b5b62da",
   "metadata": {},
   "source": [
    "# Save modal"
   ]
  },
  {
   "cell_type": "code",
   "execution_count": null,
   "id": "4b80a9a2",
   "metadata": {},
   "outputs": [],
   "source": [
    "with open('model.pkl', 'wb') as f:\n",
    "    pickle.dump(m,f)"
   ]
  },
  {
   "cell_type": "code",
   "execution_count": null,
   "id": "af53fb92-a1e6-4ecc-9fda-19d508cd08d3",
   "metadata": {},
   "outputs": [],
   "source": []
  },
  {
   "cell_type": "markdown",
   "id": "cbb17b7d-240d-4477-bf85-097b97739d09",
   "metadata": {},
   "source": [
    "# Open modal"
   ]
  },
  {
   "cell_type": "code",
   "execution_count": null,
   "id": "bede5aa6-94cd-413b-a8ad-56efdaae04f4",
   "metadata": {},
   "outputs": [],
   "source": [
    "with open('model.pkl', 'rb') as f:\n",
    "    m = pickle.load(f)\n",
    "m.restore_trainer()"
   ]
  },
  {
   "cell_type": "code",
   "execution_count": null,
   "id": "9d91ec4c-a88e-4bdf-b131-83b1cbeae659",
   "metadata": {},
   "outputs": [],
   "source": [
    "future = m.make_future_dataframe(data, periods=1000)\n",
    "# future['cap'] = 1024\n",
    "# future['floor'] = 0\n",
    "forecast = m.predict(future)\n",
    "forecast.head()"
   ]
  },
  {
   "cell_type": "code",
   "execution_count": null,
   "id": "30520da1-674f-4e43-a567-56b3974b7a33",
   "metadata": {},
   "outputs": [],
   "source": [
    "fig, ax = plt.subplots(figsize=(12, 6))\n",
    "\n",
    "ax.plot(data['ds'], data['y'], label='Actual data')\n",
    "\n",
    "ax.plot(forecast['ds'], forecast['yhat1'], label='Predicted data')\n",
    "\n",
    "ax.set_xlabel('Time')\n",
    "ax.set_ylabel('Pressure')\n",
    "ax.set_title('Data Frames Comparison')\n",
    "\n",
    "ax.legend()\n",
    "plt.show()"
   ]
  },
  {
   "cell_type": "code",
   "execution_count": null,
   "id": "5831da80-0678-4e08-86c9-d5f8b3cd6020",
   "metadata": {},
   "outputs": [],
   "source": []
  }
 ],
 "metadata": {
  "kernelspec": {
   "display_name": "Python 3 (ipykernel)",
   "language": "python",
   "name": "python3"
  },
  "language_info": {
   "codemirror_mode": {
    "name": "ipython",
    "version": 3
   },
   "file_extension": ".py",
   "mimetype": "text/x-python",
   "name": "python",
   "nbconvert_exporter": "python",
   "pygments_lexer": "ipython3",
   "version": "3.8.16"
  }
 },
 "nbformat": 4,
 "nbformat_minor": 5
}
